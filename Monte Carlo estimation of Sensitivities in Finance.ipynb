{
 "cells": [
  {
   "cell_type": "markdown",
   "id": "946f283b",
   "metadata": {},
   "source": [
    "# Monte Carlo estimation of Sensitivities in Finance\n",
    "## MATH-414 Stochastic Simulation project\n",
    "Authors : Charles Gendreau - Eliott Van Dieren\n",
    "\n",
    "Professor : Prof. Fabio Nobile\n",
    "\n",
    "Teaching Assistant : Sundar Ganesh"
   ]
  },
  {
   "cell_type": "code",
   "execution_count": 3,
   "id": "35eb5146",
   "metadata": {},
   "outputs": [],
   "source": [
    "# Imports\n",
    "import numpy as np\n",
    "import pandas as pd\n",
    "import matplotlib.pyplot as plt\n",
    "import scipy.stats as st"
   ]
  },
  {
   "cell_type": "code",
   "execution_count": 8,
   "id": "8c643785",
   "metadata": {},
   "outputs": [],
   "source": [
    "# Utility functions\n",
    "\n",
    "def simul_S_T(T:float,S_0:float,r:float,sig:float,n:int) -> np.array:\n",
    "    \"\"\"\n",
    "    Returns a numpy array of size n with prices of the underlying at maturity\n",
    "    \n",
    "    Args :\n",
    "        - T : Time of maturity (% of years) (float)\n",
    "        - S_0 : Underlying price at time 0 (float)\n",
    "        - r : free-risk interest rate (float)\n",
    "        - sig : Volatility of the underlying (float)\n",
    "        - n : number of prices\n",
    "    Returns :\n",
    "        - numpy array of S_T\n",
    "    \"\"\"\n",
    "    W_T : np.array = st.norm.rvs(loc=0,scale=T**2,size=n)\n",
    "    return S_0*np.exp((r-0.5*sig**2)*T+sig*W_T)\n",
    "\n",
    "def CMC_estimator(func,X:np.array) -> list:\n",
    "    \"\"\"\n",
    "    Crude Monte-Carlo estimator of E[func(X)]\n",
    "    where N = length of X\n",
    "    \n",
    "    args:\n",
    "        - func : function from R^N to R^N\n",
    "        - X : numpy array\n",
    "    returns : Crude Monte-Carlo estimator\n",
    "    \n",
    "    \"\"\"\n",
    "    return [np.mean(func(X)),np.std(func(X))]\n",
    "\n",
    "#def finite_difference(fun,delta:float) "
   ]
  },
  {
   "cell_type": "markdown",
   "id": "48f83c00",
   "metadata": {},
   "source": [
    "## 3. Application to option pricing\n",
    "\n",
    "### 3.1 European Call Option"
   ]
  },
  {
   "cell_type": "code",
   "execution_count": 54,
   "id": "fc98da5d",
   "metadata": {},
   "outputs": [],
   "source": [
    "# Parameters\n",
    "T = 1\n",
    "S_0 = 100\n",
    "K = 120\n",
    "r = 0.05\n",
    "sig = 0#0.25\n",
    "n_elem = np.arange(10**3,10**5+1000,1000)\n",
    "#print(n_elem)\n",
    "\n",
    "# Payoff function\n",
    "#f = lambda x: np.exp(-r*T)*np.maximum(x-K,np.zeros(len(x)))\n",
    "f = lambda x : x\n",
    "# Vraies functions : ∂f(ST )/∂S0, ∂f(ST)/∂σ, ∂2f(ST )/∂S02\n",
    "\n",
    "dS_0 = 1e-3\n",
    "\n",
    "# Generation sampling\n",
    "#plot_S_T_mu = np.zeros(len(n_elem))\n",
    "#plot_S_T_std = np.zeros(len(n_elem))\n",
    "dI_d_S_T = np.zeros(len(n_elem))\n",
    "test = np.zeros(len(n_elem))\n",
    "for idx,n in enumerate(n_elem):\n",
    "    S_T_r = simul_S_T(T,S_0+dS_0,r,sig,n)\n",
    "    S_T_l = simul_S_T(T,S_0-dS_0,r,sig,n)\n",
    "    test[idx] = simul_S_T(T,S_0,r,sig,n)[0]\n",
    "    [payoff_mu_r,payoff_std_r] = CMC_estimator(f,S_T_r)\n",
    "    [payoff_mu_l,payoff_std_l] = CMC_estimator(f,S_T_l)\n",
    "    dI_d_S_T[idx] = (payoff_mu_r-payoff_mu_l)/(2*dS_0)"
   ]
  },
  {
   "cell_type": "code",
   "execution_count": 56,
   "id": "73e3196f",
   "metadata": {},
   "outputs": [],
   "source": [
    "#plt.figure(figsize=(10,5))\n",
    "#plt.plot(n_elem,dI_d_S_T)\n",
    "#plt.plot(n_elem,np.exp(r*T)*np.ones(len(n_elem)))\n",
    "#plt.show()"
   ]
  },
  {
   "cell_type": "code",
   "execution_count": null,
   "id": "e8da8883",
   "metadata": {},
   "outputs": [],
   "source": []
  }
 ],
 "metadata": {
  "kernelspec": {
   "display_name": "Python 3 (ipykernel)",
   "language": "python",
   "name": "python3"
  },
  "language_info": {
   "codemirror_mode": {
    "name": "ipython",
    "version": 3
   },
   "file_extension": ".py",
   "mimetype": "text/x-python",
   "name": "python",
   "nbconvert_exporter": "python",
   "pygments_lexer": "ipython3",
   "version": "3.9.7"
  }
 },
 "nbformat": 4,
 "nbformat_minor": 5
}
