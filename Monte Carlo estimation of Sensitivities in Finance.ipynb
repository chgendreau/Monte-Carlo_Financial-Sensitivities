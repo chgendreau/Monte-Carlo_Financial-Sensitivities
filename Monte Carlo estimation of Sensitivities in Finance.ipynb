{
 "cells": [
  {
   "cell_type": "markdown",
   "id": "946f283b",
   "metadata": {},
   "source": [
    "# Monte Carlo estimation of Sensitivities in Finance\n",
    "## MATH-414 Stochastic Simulation project\n",
    "Authors : Charles Gendreau - Eliott Van Dieren\n",
    "\n",
    "Professor : Prof. Fabio Nobile\n",
    "\n",
    "Teaching Assistant : Sundar Ganesh"
   ]
  },
  {
   "cell_type": "code",
   "execution_count": 22,
   "id": "35eb5146",
   "metadata": {},
   "outputs": [],
   "source": [
    "# Imports\n",
    "import numpy as np\n",
    "import pandas as pd\n",
    "import matplotlib.pyplot as plt\n",
    "import scipy.stats as st"
   ]
  },
  {
   "cell_type": "code",
   "execution_count": 59,
   "id": "8c643785",
   "metadata": {},
   "outputs": [],
   "source": [
    "# Utility functions\n",
    "\n",
    "def simul_S_T(params:list,n:int,W_T : np.array) -> np.array:\n",
    "    \"\"\"\n",
    "    Returns a numpy array of size n with prices of the underlying at maturity\n",
    "    \n",
    "    Args :\n",
    "        - params is a list of the following values :\n",
    "            * T : Time of maturity in years (float)\n",
    "            * S_0 : Underlying price at time 0 (float)\n",
    "            * r : free-risk interest rate (float)\n",
    "            * sig : Volatility of the underlying (float)\n",
    "        - n : number of prices (int)\n",
    "    Returns :\n",
    "        - numpy array of S_T\n",
    "    \"\"\"\n",
    "    T : float = params[0]; S_0 : float = params[1]\n",
    "    r : float = params[2]; sig : float = params[3]\n",
    "    #W_T : np.array = st.norm.rvs(loc=0,scale=np.sqrt(T),size=n)\n",
    "    return S_0*np.exp((r-0.5*sig**2)*T+sig*W_T)\n",
    "\n",
    "\n",
    "def CMC_estimator(func,X:np.array,params:list) -> list:\n",
    "    \"\"\"\n",
    "    Crude Monte-Carlo estimator of E[func(X)]\n",
    "    \n",
    "    args:\n",
    "        - func : function from R^N to R^N where N = length of X\n",
    "        - X : numpy array\n",
    "    returns : \n",
    "        - Crude Monte-Carlo estimator of the mean\n",
    "        - Standard deviation (for CI purposes)    \n",
    "    \"\"\"\n",
    "    return [np.mean(func(X,params)),np.std(func(X,params))]\n",
    "\n",
    "def finite_difference(func,params:list,dtheta:float,derivative:str, n:int) -> float:\n",
    "    \"\"\"\n",
    "    Finite difference method to compute the derivative of I := E[func(X)] wrt theta\n",
    "    \n",
    "    I is computed with the CMC_estimator function which takes func and S_T as argument\n",
    "    \n",
    "    args:\n",
    "        - func : function from R^N to R^N which takes S_T as parameter (payoff function)\n",
    "        - params is a list of the following values :\n",
    "            * T : Time of maturity in years (float)\n",
    "            * S_0 : Underlying price at time 0 (float)\n",
    "            * r : free-risk interest rate (float)\n",
    "            * sig : Volatility of the underlying (float)\n",
    "            * K : Strike price for the payoff\n",
    "        - dtheta : small delta of theta to compute the finite difference (float)\n",
    "        - derivative : either \"delta\", \"vega\" or \"gamma\"\n",
    "        - n : number of simulations for Monte-Carlo\n",
    "        \n",
    "    returns : the estimated value of dI/dtheta by finite difference method\n",
    "    \n",
    "    \"\"\"\n",
    "    \n",
    "    if derivative not in [\"delta\",\"vega\",\"gamma\"]:\n",
    "        print(f\"Derivative not supported : {derivative}\")\n",
    "        raise ValueError\n",
    "    \n",
    "    idx_deriv : int = 3 if derivative == \"vega\"  else 1 # Useful to know which parameter we have to modify\n",
    "    \n",
    "    # Definition of new parameters\n",
    "    params_pos : list = params.copy(); params_neg : list = params.copy()\n",
    "    params_pos[idx_deriv] += dtheta ; params_neg[idx_deriv] -= dtheta\n",
    "    \n",
    "    # Generation of Stock prices\n",
    "    W_T : np.array = st.norm.rvs(loc=0,scale=np.sqrt(params[0]),size=n)\n",
    "    S_T_pos : np.array = simul_S_T(params_pos,n,W_T) ; S_T_neg = simul_S_T(params_neg,n,W_T)\n",
    "    \n",
    "    # Generation of payoff estimates\n",
    "    [payoff_mu_pos,payoff_std_pos] = CMC_estimator(func,S_T_pos,params)\n",
    "    [payoff_mu_neg,payoff_std_neg] = CMC_estimator(func,S_T_neg,params)\n",
    "\n",
    "    if derivative == \"gamma\": # Due to different equation for second order derivative estimates\n",
    "        S_T : np.array = simul_S_T(params,n,W_T); [payoff_mu,payoff_std] = CMC_estimator(func,S_T,params)\n",
    "        return (payoff_mu_pos -2*payoff_mu + payoff_mu_neg)/(dtheta**2)\n",
    "    else: # For delta and vega\n",
    "        return 0.5*(payoff_mu_pos-payoff_mu_neg)/dtheta"
   ]
  },
  {
   "cell_type": "markdown",
   "id": "48f83c00",
   "metadata": {},
   "source": [
    "## 3. Application to option pricing\n",
    "\n",
    "### 3.1 European Call Option"
   ]
  },
  {
   "cell_type": "code",
   "execution_count": 86,
   "id": "fc98da5d",
   "metadata": {},
   "outputs": [],
   "source": [
    "# Parameters\n",
    "T = 1\n",
    "S_0 = 100\n",
    "K = 120\n",
    "r = 0.05\n",
    "sig = 0.25\n",
    "params = [T,S_0,r,sig,K]\n",
    "dtheta = 1e-5\n",
    "\n",
    "# Payoff function for European Call Option\n",
    "C_payoff = lambda x,p: np.exp(-p[2]*p[0])*np.maximum(x-p[4],np.zeros(len(x)))"
   ]
  },
  {
   "cell_type": "code",
   "execution_count": 90,
   "id": "a6489be5",
   "metadata": {},
   "outputs": [],
   "source": [
    "n_elem = np.arange(10**3,10**5+1000,1000)\n",
    "\n",
    "# Finite difference method\n",
    "\n",
    "delta_finite = np.zeros(len(n_elem))\n",
    "vega_finite = np.zeros(len(n_elem))\n",
    "gamma_finite = np.zeros(len(n_elem))\n",
    "for idx,n in enumerate(n_elem):\n",
    "    delta_finite[idx] = finite_difference(C_payoff,params,dtheta,\"delta\", n)\n",
    "    vega_finite[idx] = finite_difference(C_payoff,params,dtheta,\"vega\", n)\n",
    "    gamma_finite[idx] = finite_difference(C_payoff,params,dtheta,\"gamma\", n)"
   ]
  },
  {
   "cell_type": "code",
   "execution_count": 91,
   "id": "68eedbfc",
   "metadata": {},
   "outputs": [
    {
     "name": "stdout",
     "output_type": "stream",
     "text": [
      "Estimated delta value :  0.34263383201782455\n",
      "real delta value :  0.3676359083901262\n",
      "Estimated gamma value :  -8.88178419700125e-06\n",
      "real gamma value :  0.01398824374254948\n",
      "Estimated vega value :  37.1164949873215\n",
      "real vega value :  34.9706093563737\n"
     ]
    }
   ],
   "source": [
    "d1 = (np.log(S_0/K)+(r+0.5*sig**2)*T)/(sig*np.sqrt(T))\n",
    "\n",
    "print(\"Estimated delta value : \", delta_finite[-1])\n",
    "print(\"real delta value : \",st.norm.pdf(d1))\n",
    "\n",
    "print(\"Estimated gamma value : \", gamma_finite[-1])\n",
    "print(\"real gamma value : \",np.exp(-r*T)*st.norm.pdf(d1)/(sig*S_0*np.sqrt(T)))\n",
    "\n",
    "print(\"Estimated vega value : \", vega_finite[-1])\n",
    "print(\"real vega value : \",np.exp(-r*T)*S_0*np.sqrt(T)*st.norm.pdf(d1))"
   ]
  },
  {
   "cell_type": "code",
   "execution_count": 89,
   "id": "73e3196f",
   "metadata": {},
   "outputs": [
    {
     "data": {
      "image/png": "[encoded data removed]",
      "text/plain": [
       "<Figure size 720x360 with 1 Axes>"
      ]
     },
     "metadata": {
      "needs_background": "light"
     },
     "output_type": "display_data"
    }
   ],
   "source": [
    "plt.figure(figsize=(10,5))\n",
    "plt.plot(n_elem,delta_finite,label=\"Delta\")\n",
    "#plt.plot(n_elem,vega_finite,label=\"Vega\")\n",
    "#plt.plot(n_elem,gamma_finite,label=\"Gamma\")\n",
    "plt.legend()\n",
    "plt.show()"
   ]
  },
  {
   "cell_type": "markdown",
   "id": "14bfddbc",
   "metadata": {},
   "source": [
    "Comments :\n",
    "\n",
    "Le gamma blow up totalement\n",
    "\n",
    "Quelle valeur de $\\Delta \\theta$ choisir?"
   ]
  },
  {
   "cell_type": "code",
   "execution_count": null,
   "id": "4b529459",
   "metadata": {},
   "outputs": [],
   "source": []
  },
  {
   "cell_type": "code",
   "execution_count": null,
   "id": "d8a05e86",
   "metadata": {},
   "outputs": [],
   "source": []
  },
  {
   "cell_type": "code",
   "execution_count": null,
   "id": "90f72761",
   "metadata": {},
   "outputs": [],
   "source": []
  },
  {
   "cell_type": "code",
   "execution_count": 64,
   "id": "b394fa07",
   "metadata": {},
   "outputs": [
    {
     "data": {
      "text/plain": [
       "0.34301139607784137"
      ]
     },
     "execution_count": 64,
     "metadata": {},
     "output_type": "execute_result"
    }
   ],
   "source": [
    "#finite_difference(C_payoff,params,dtheta,\"delta\", 5*10**7)"
   ]
  },
  {
   "cell_type": "code",
   "execution_count": null,
   "id": "1be569d3",
   "metadata": {},
   "outputs": [],
   "source": []
  }
 ],
 "metadata": {
  "kernelspec": {
   "display_name": "Python 3 (ipykernel)",
   "language": "python",
   "name": "python3"
  },
  "language_info": {
   "codemirror_mode": {
    "name": "ipython",
    "version": 3
   },
   "file_extension": ".py",
   "mimetype": "text/x-python",
   "name": "python",
   "nbconvert_exporter": "python",
   "pygments_lexer": "ipython3",
   "version": "3.9.7"
  }
 },
 "nbformat": 4,
 "nbformat_minor": 5
}
