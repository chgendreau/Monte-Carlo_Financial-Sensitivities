{
 "cells": [
  {
   "cell_type": "markdown",
   "id": "946f283b",
   "metadata": {},
   "source": [
    "# Monte Carlo estimation of Sensitivities in Finance\n",
    "## MATH-414 Stochastic Simulation project\n",
    "Authors : Charles Gendreau - Eliott Van Dieren\n",
    "\n",
    "Professor : Prof. Fabio Nobile\n",
    "\n",
    "Teaching Assistant : Sundar Ganesh"
   ]
  },
  {
   "cell_type": "code",
   "execution_count": 2,
   "id": "35eb5146",
   "metadata": {},
   "outputs": [],
   "source": [
    "# Imports\n",
    "import numpy as np\n",
    "import pandas as pd\n",
    "import matplotlib.pyplot as plt\n",
    "import scipy.stats as st"
   ]
  },
  {
   "cell_type": "code",
   "execution_count": 64,
   "id": "8c643785",
   "metadata": {},
   "outputs": [],
   "source": [
    "# Utility functions\n",
    "\n",
    "def simul_S_T(T:float,S_0:float,r:float,sig:float,n:int) -> np.array:\n",
    "    \"\"\"\n",
    "    Returns a numpy array of size n with prices of the underlying at maturity\n",
    "    \n",
    "    Args :\n",
    "        - T : Time of maturity (% of years) (float)\n",
    "        - S_0 : Underlying price at time 0 (float)\n",
    "        - r : free-risk interest rate (float)\n",
    "        - sig : Volatility of the underlying (float)\n",
    "        - n : number of prices\n",
    "    Returns :\n",
    "        - numpy array of S_T\n",
    "    \"\"\"\n",
    "    W_T : np.array = st.norm.rvs(loc=0,scale=T**2,size=n)\n",
    "    return S_0*np.exp((r-0.5*sig**2)*T+sig*W_T)\n",
    "\n",
    "def CMC_estimator(func,X:np.array) -> float:\n",
    "    \"\"\"\n",
    "    Crude Monte-Carlo estimator of E[func(X)]\n",
    "    where N = length of X\n",
    "    \n",
    "    args:\n",
    "        - func : function from R^N to R^N\n",
    "        - X : numpy array\n",
    "    returns : Crude Monte-Carlo estimator\n",
    "    \n",
    "    \"\"\"\n",
    "    return sum(func(X))/len(X)\n",
    "\n",
    "#def finite_difference(fun,delta:float) "
   ]
  },
  {
   "cell_type": "code",
   "execution_count": 65,
   "id": "fccc49ae",
   "metadata": {},
   "outputs": [],
   "source": [
    "# Parameters\n",
    "T = 0.5\n",
    "S_0 = 10\n",
    "r = 0.15\n",
    "sig = 5\n",
    "n = 100"
   ]
  },
  {
   "cell_type": "code",
   "execution_count": 66,
   "id": "b07a931b",
   "metadata": {},
   "outputs": [
    {
     "data": {
      "text/plain": [
       "0.03366318007228747"
      ]
     },
     "execution_count": 66,
     "metadata": {},
     "output_type": "execute_result"
    }
   ],
   "source": [
    "# Testing\n",
    "S_T = simul_S_T(T,S_0,r,sig,n)\n",
    "func = lambda x : x\n",
    "CMC_estimator(func,S_T)"
   ]
  },
  {
   "cell_type": "code",
   "execution_count": null,
   "id": "edd4ba21",
   "metadata": {},
   "outputs": [],
   "source": []
  }
 ],
 "metadata": {
  "kernelspec": {
   "display_name": "Python 3 (ipykernel)",
   "language": "python",
   "name": "python3"
  },
  "language_info": {
   "codemirror_mode": {
    "name": "ipython",
    "version": 3
   },
   "file_extension": ".py",
   "mimetype": "text/x-python",
   "name": "python",
   "nbconvert_exporter": "python",
   "pygments_lexer": "ipython3",
   "version": "3.9.7"
  }
 },
 "nbformat": 4,
 "nbformat_minor": 5
}
